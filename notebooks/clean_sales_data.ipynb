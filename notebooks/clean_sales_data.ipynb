{
 "cells": [
  {
   "cell_type": "code",
   "execution_count": 9,
   "metadata": {},
   "outputs": [
    {
     "data": {
      "text/html": [
       "<style>.container { width:100% !important; }</style>"
      ],
      "text/plain": [
       "<IPython.core.display.HTML object>"
      ]
     },
     "metadata": {},
     "output_type": "display_data"
    }
   ],
   "source": [
    "from IPython.core.display import display, HTML\n",
    "display(HTML(\"<style>.container { width:100% !important; }</style>\"))\n",
    "\n",
    "import pandas as pd\n",
    "pd.set_option('display.max_rows', 100)\n",
    "\n",
    "# if I want to see the full frame with some column wider:\n",
    "# check.style.set_properties(subset=['item'], **{'width': '500px'})"
   ]
  },
  {
   "cell_type": "code",
   "execution_count": 10,
   "metadata": {},
   "outputs": [],
   "source": [
    "import matplotlib as plt\n",
    "import seaborn as sns\n",
    "sns.set()"
   ]
  },
  {
   "cell_type": "code",
   "execution_count": 11,
   "metadata": {},
   "outputs": [
    {
     "data": {
      "text/html": [
       "<div>\n",
       "<style scoped>\n",
       "    .dataframe tbody tr th:only-of-type {\n",
       "        vertical-align: middle;\n",
       "    }\n",
       "\n",
       "    .dataframe tbody tr th {\n",
       "        vertical-align: top;\n",
       "    }\n",
       "\n",
       "    .dataframe thead th {\n",
       "        text-align: right;\n",
       "    }\n",
       "</style>\n",
       "<table border=\"1\" class=\"dataframe\">\n",
       "  <thead>\n",
       "    <tr style=\"text-align: right;\">\n",
       "      <th></th>\n",
       "      <th>lens_id</th>\n",
       "      <th>price</th>\n",
       "      <th>flen_min</th>\n",
       "      <th>flen_max</th>\n",
       "      <th>f_min</th>\n",
       "      <th>brand</th>\n",
       "      <th>original_price</th>\n",
       "      <th>announce_date</th>\n",
       "    </tr>\n",
       "  </thead>\n",
       "  <tbody>\n",
       "    <tr>\n",
       "      <th>0</th>\n",
       "      <td>fujifilm_xf_16-55_2p8_lm_wr</td>\n",
       "      <td>710.0</td>\n",
       "      <td>16.0</td>\n",
       "      <td>55.0</td>\n",
       "      <td>2.8</td>\n",
       "      <td>fujifilm</td>\n",
       "      <td>907.495</td>\n",
       "      <td>2015</td>\n",
       "    </tr>\n",
       "    <tr>\n",
       "      <th>1</th>\n",
       "      <td>sony_fe_200-600_5p6-6p3_g_oss</td>\n",
       "      <td>1775.0</td>\n",
       "      <td>200.0</td>\n",
       "      <td>600.0</td>\n",
       "      <td>5.6</td>\n",
       "      <td>sony</td>\n",
       "      <td>1998.000</td>\n",
       "      <td>2019</td>\n",
       "    </tr>\n",
       "    <tr>\n",
       "      <th>2</th>\n",
       "      <td>fujifilm_xf_16-55_2p8_lm_wr</td>\n",
       "      <td>750.0</td>\n",
       "      <td>16.0</td>\n",
       "      <td>55.0</td>\n",
       "      <td>2.8</td>\n",
       "      <td>fujifilm</td>\n",
       "      <td>907.495</td>\n",
       "      <td>2015</td>\n",
       "    </tr>\n",
       "    <tr>\n",
       "      <th>3</th>\n",
       "      <td>sony_16-35_2p8_za_ssm_ii</td>\n",
       "      <td>1550.0</td>\n",
       "      <td>16.0</td>\n",
       "      <td>35.0</td>\n",
       "      <td>2.8</td>\n",
       "      <td>sony</td>\n",
       "      <td>2248.000</td>\n",
       "      <td>2015</td>\n",
       "    </tr>\n",
       "    <tr>\n",
       "      <th>4</th>\n",
       "      <td>sony_zeiss_fe_70_200_4_oss</td>\n",
       "      <td>950.0</td>\n",
       "      <td>70.0</td>\n",
       "      <td>200.0</td>\n",
       "      <td>4.0</td>\n",
       "      <td>sony</td>\n",
       "      <td>1323.000</td>\n",
       "      <td>2013</td>\n",
       "    </tr>\n",
       "  </tbody>\n",
       "</table>\n",
       "</div>"
      ],
      "text/plain": [
       "                         lens_id   price  flen_min  flen_max  f_min     brand  \\\n",
       "0    fujifilm_xf_16-55_2p8_lm_wr   710.0      16.0      55.0    2.8  fujifilm   \n",
       "1  sony_fe_200-600_5p6-6p3_g_oss  1775.0     200.0     600.0    5.6      sony   \n",
       "2    fujifilm_xf_16-55_2p8_lm_wr   750.0      16.0      55.0    2.8  fujifilm   \n",
       "3       sony_16-35_2p8_za_ssm_ii  1550.0      16.0      35.0    2.8      sony   \n",
       "4     sony_zeiss_fe_70_200_4_oss   950.0      70.0     200.0    4.0      sony   \n",
       "\n",
       "   original_price  announce_date  \n",
       "0         907.495           2015  \n",
       "1        1998.000           2019  \n",
       "2         907.495           2015  \n",
       "3        2248.000           2015  \n",
       "4        1323.000           2013  "
      ]
     },
     "execution_count": 11,
     "metadata": {},
     "output_type": "execute_result"
    }
   ],
   "source": [
    "sales = pd.read_csv('../data/sales.csv')\n",
    "sales.style.set_properties(subset=['item'], **{'width': '300px'})\n",
    "\n",
    "# kill posts that look like multiple items got put together in one sale\n",
    "sales = sales[~((sales['item'].str.contains('with')) | (sales['item'].str.contains('and')) | (sales['item'].str.contains('plus')) | (sales['item'].str.contains('+',regex=False)))]\n",
    "sales = sales[~((sales['item'].str.contains('accessor')) | (sales['item'].str.contains('extra')) | (sales['item'].str.contains('&')))]\n",
    "\n",
    "features = [\n",
    "# 'topic_id', \n",
    "'lens_id', \n",
    "'price', \n",
    "# 'first_date', \n",
    "# 'last_date',\n",
    "# 'item', \n",
    "'flen_min', \n",
    "'flen_max', \n",
    "'f_min', \n",
    "'brand', \n",
    "'original_price',\n",
    "'announce_date', \n",
    "# 'condition'\n",
    "]\n",
    "# remove extra info columns\n",
    "sales = sales[features]\n",
    "sales.head()"
   ]
  },
  {
   "cell_type": "code",
   "execution_count": 12,
   "metadata": {
    "scrolled": true
   },
   "outputs": [
    {
     "data": {
      "text/plain": [
       "sony         428\n",
       "nikon        175\n",
       "canon        148\n",
       "fujifilm     148\n",
       "tamron        93\n",
       "panasonic     43\n",
       "sigma         35\n",
       "olympus       28\n",
       "leica         19\n",
       "pentax         6\n",
       "nikkor         5\n",
       "tokina         2\n",
       "Name: brand, dtype: int64"
      ]
     },
     "execution_count": 12,
     "metadata": {},
     "output_type": "execute_result"
    }
   ],
   "source": [
    "sales['brand'].value_counts()"
   ]
  },
  {
   "cell_type": "code",
   "execution_count": 13,
   "metadata": {
    "scrolled": true
   },
   "outputs": [
    {
     "data": {
      "text/plain": [
       "(40, 8)"
      ]
     },
     "execution_count": 13,
     "metadata": {},
     "output_type": "execute_result"
    }
   ],
   "source": [
    "sales[sales['price']<10].shape"
   ]
  },
  {
   "cell_type": "code",
   "execution_count": 14,
   "metadata": {},
   "outputs": [
    {
     "data": {
      "text/plain": [
       "sony         399\n",
       "canon        144\n",
       "nikon        142\n",
       "fujifilm     140\n",
       "tamron        83\n",
       "panasonic     37\n",
       "sigma         34\n",
       "olympus       27\n",
       "leica         16\n",
       "Name: brand, dtype: int64"
      ]
     },
     "execution_count": 14,
     "metadata": {},
     "output_type": "execute_result"
    }
   ],
   "source": [
    "# cut 3 crazy outliers\n",
    "sales = sales[(sales['price']>1) & (sales['price']<10000)] \n",
    "# not enough data for some brands\n",
    "sales = sales[(sales['brand']!='pentax') & (sales['brand']!='nikkor') & (sales['brand']!='tokina')] \n",
    "# a few listings say $1.00, which is of course not the actual price...\n",
    "# kill ~ 10% of posts since the price is higher than original since they contain multiple items (e.g. camera+lens, or 2 lenses)\n",
    "sales = sales[(sales['price']-sales['original_price']<0)] \n",
    "sales['brand'].value_counts()"
   ]
  },
  {
   "cell_type": "code",
   "execution_count": 15,
   "metadata": {},
   "outputs": [],
   "source": [
    "# sns.pairplot(sales, hue='brand', size=3, diag_kind='hist')"
   ]
  },
  {
   "cell_type": "code",
   "execution_count": 16,
   "metadata": {},
   "outputs": [],
   "source": [
    "sales.to_csv('../data/sales_clean.csv', index=False)"
   ]
  }
 ],
 "metadata": {
  "kernelspec": {
   "display_name": "Python 3",
   "language": "python",
   "name": "python3"
  },
  "language_info": {
   "codemirror_mode": {
    "name": "ipython",
    "version": 3
   },
   "file_extension": ".py",
   "mimetype": "text/x-python",
   "name": "python",
   "nbconvert_exporter": "python",
   "pygments_lexer": "ipython3",
   "version": "3.7.0"
  }
 },
 "nbformat": 4,
 "nbformat_minor": 4
}
