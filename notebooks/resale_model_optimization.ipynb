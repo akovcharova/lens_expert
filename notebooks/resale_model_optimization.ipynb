{
 "cells": [
  {
   "cell_type": "code",
   "execution_count": 1,
   "metadata": {},
   "outputs": [
    {
     "data": {
      "text/html": [
       "<style>.container { width:100% !important; }</style>"
      ],
      "text/plain": [
       "<IPython.core.display.HTML object>"
      ]
     },
     "metadata": {},
     "output_type": "display_data"
    }
   ],
   "source": [
    "import pandas as pd\n",
    "from IPython.core.display import display, HTML\n",
    "display(HTML(\"<style>.container { width:100% !important; }</style>\"))\n",
    "pd.set_option('display.max_rows', 100)\n",
    "pd.set_option('display.max_colwidth', 400)"
   ]
  },
  {
   "cell_type": "code",
   "execution_count": 2,
   "metadata": {},
   "outputs": [],
   "source": [
    "from termcolor import colored, cprint\n",
    "import pandas as pd\n",
    "import numpy as np\n",
    "import matplotlib.pyplot as plt\n",
    "\n",
    "from sklearn.pipeline import Pipeline\n",
    "from sklearn.preprocessing import StandardScaler\n",
    "from sklearn.preprocessing import OneHotEncoder\n",
    "from sklearn.compose import ColumnTransformer\n",
    "\n",
    "from sklearn.model_selection import train_test_split\n",
    "from sklearn.model_selection import cross_val_score\n",
    "from sklearn.metrics import mean_squared_error\n",
    "\n",
    "from sklearn.ensemble import RandomForestRegressor\n",
    "from sklearn.tree import DecisionTreeRegressor\n",
    "from sklearn.ensemble import GradientBoostingRegressor\n",
    "from sklearn.linear_model import LinearRegression\n",
    "from sklearn.svm import SVR\n",
    "\n",
    "from sklearn.model_selection import RandomizedSearchCV\n",
    "from scipy.stats import randint\n",
    "\n",
    "import joblib"
   ]
  },
  {
   "cell_type": "code",
   "execution_count": 3,
   "metadata": {},
   "outputs": [],
   "source": [
    "def score_me(method, x_train_prepd, y_train):\n",
    "    scores = cross_val_score(method, x_train_prepd, y_train, scoring=\"neg_mean_squared_error\", cv=10)\n",
    "    rmse_scores = np.sqrt(-scores)\n",
    "    cprint(f\"Mean score: {rmse_scores.mean():.2f}\",'magenta')\n",
    "    print(f\"Standard deviation: {rmse_scores.std():.2f}\")"
   ]
  },
  {
   "cell_type": "markdown",
   "metadata": {},
   "source": [
    "### Take a look at data"
   ]
  },
  {
   "cell_type": "code",
   "execution_count": 4,
   "metadata": {},
   "outputs": [
    {
     "name": "stdout",
     "output_type": "stream",
     "text": [
      "                         lens_id   price  flen_min  flen_max  f_min     brand  \\\n",
      "0           nikon_50_1p8_g_sp_ed   150.0      50.0      -1.0    1.8     nikon   \n",
      "1       canon_ts-e_135_4p0_macro   565.0     135.0      -1.0    4.0     canon   \n",
      "2          fujifilm_xf_35_2_r_wr   275.0      35.0      -1.0    2.0  fujifilm   \n",
      "3  sony_fe_200-600_5p6-6p3_g_oss  1775.0     200.0     600.0    5.6      sony   \n",
      "4    fujifilm_xf_16-55_2p8_lm_wr   750.0      16.0      55.0    2.8  fujifilm   \n",
      "5            sony_fe_85mm_1p4_gm  1245.0      85.0      -1.0    1.4      sony   \n",
      "6     sony_zeiss_fe_70_200_4_oss   950.0      70.0     200.0    4.0      sony   \n",
      "7    fujifilm_xf_16-55_2p8_lm_wr   700.0      16.0      55.0    2.8  fujifilm   \n",
      "8                 sigma_50_1p4_a   500.0      50.0      -1.0    1.4     sigma   \n",
      "9               fujifilm_xf_56mm   650.0      56.0      -1.0    1.2  fujifilm   \n",
      "\n",
      "   original_price  announce_date  \n",
      "0         276.950           2013  \n",
      "1        2199.000           2017  \n",
      "2         409.475           2015  \n",
      "3        1998.000           2019  \n",
      "4         907.495           2015  \n",
      "5        1806.495           2016  \n",
      "6        1323.000           2013  \n",
      "7         907.495           2015  \n",
      "8         805.440           2014  \n",
      "9         999.000           2014  \n"
     ]
    }
   ],
   "source": [
    "sales = pd.read_csv('../data/sales_clean.csv')\n",
    "sales = sales[sales['price']<2000]\n",
    "print(sales.head(10))"
   ]
  },
  {
   "cell_type": "code",
   "execution_count": 5,
   "metadata": {},
   "outputs": [
    {
     "data": {
      "text/html": [
       "<div>\n",
       "<style scoped>\n",
       "    .dataframe tbody tr th:only-of-type {\n",
       "        vertical-align: middle;\n",
       "    }\n",
       "\n",
       "    .dataframe tbody tr th {\n",
       "        vertical-align: top;\n",
       "    }\n",
       "\n",
       "    .dataframe thead th {\n",
       "        text-align: right;\n",
       "    }\n",
       "</style>\n",
       "<table border=\"1\" class=\"dataframe\">\n",
       "  <thead>\n",
       "    <tr style=\"text-align: right;\">\n",
       "      <th></th>\n",
       "      <th>price</th>\n",
       "      <th>flen_min</th>\n",
       "      <th>flen_max</th>\n",
       "      <th>f_min</th>\n",
       "      <th>original_price</th>\n",
       "      <th>announce_date</th>\n",
       "    </tr>\n",
       "  </thead>\n",
       "  <tbody>\n",
       "    <tr>\n",
       "      <th>count</th>\n",
       "      <td>1938.000000</td>\n",
       "      <td>1938.000000</td>\n",
       "      <td>1938.000000</td>\n",
       "      <td>1938.000000</td>\n",
       "      <td>1938.000000</td>\n",
       "      <td>1938.000000</td>\n",
       "    </tr>\n",
       "    <tr>\n",
       "      <th>mean</th>\n",
       "      <td>672.433235</td>\n",
       "      <td>57.142415</td>\n",
       "      <td>75.458204</td>\n",
       "      <td>2.791280</td>\n",
       "      <td>1393.770854</td>\n",
       "      <td>2015.328689</td>\n",
       "    </tr>\n",
       "    <tr>\n",
       "      <th>std</th>\n",
       "      <td>456.658275</td>\n",
       "      <td>62.131974</td>\n",
       "      <td>127.939783</td>\n",
       "      <td>1.026244</td>\n",
       "      <td>1439.526780</td>\n",
       "      <td>2.569792</td>\n",
       "    </tr>\n",
       "    <tr>\n",
       "      <th>min</th>\n",
       "      <td>4.000000</td>\n",
       "      <td>8.000000</td>\n",
       "      <td>-1.000000</td>\n",
       "      <td>1.200000</td>\n",
       "      <td>103.600000</td>\n",
       "      <td>2010.000000</td>\n",
       "    </tr>\n",
       "    <tr>\n",
       "      <th>25%</th>\n",
       "      <td>310.000000</td>\n",
       "      <td>24.000000</td>\n",
       "      <td>-1.000000</td>\n",
       "      <td>1.800000</td>\n",
       "      <td>599.000000</td>\n",
       "      <td>2013.000000</td>\n",
       "    </tr>\n",
       "    <tr>\n",
       "      <th>50%</th>\n",
       "      <td>600.000000</td>\n",
       "      <td>40.000000</td>\n",
       "      <td>-1.000000</td>\n",
       "      <td>2.800000</td>\n",
       "      <td>996.950000</td>\n",
       "      <td>2015.000000</td>\n",
       "    </tr>\n",
       "    <tr>\n",
       "      <th>75%</th>\n",
       "      <td>900.000000</td>\n",
       "      <td>70.000000</td>\n",
       "      <td>100.000000</td>\n",
       "      <td>4.000000</td>\n",
       "      <td>1796.950000</td>\n",
       "      <td>2017.000000</td>\n",
       "    </tr>\n",
       "    <tr>\n",
       "      <th>max</th>\n",
       "      <td>1999.000000</td>\n",
       "      <td>800.000000</td>\n",
       "      <td>600.000000</td>\n",
       "      <td>5.600000</td>\n",
       "      <td>16296.950000</td>\n",
       "      <td>2020.000000</td>\n",
       "    </tr>\n",
       "  </tbody>\n",
       "</table>\n",
       "</div>"
      ],
      "text/plain": [
       "             price     flen_min     flen_max        f_min  original_price  \\\n",
       "count  1938.000000  1938.000000  1938.000000  1938.000000     1938.000000   \n",
       "mean    672.433235    57.142415    75.458204     2.791280     1393.770854   \n",
       "std     456.658275    62.131974   127.939783     1.026244     1439.526780   \n",
       "min       4.000000     8.000000    -1.000000     1.200000      103.600000   \n",
       "25%     310.000000    24.000000    -1.000000     1.800000      599.000000   \n",
       "50%     600.000000    40.000000    -1.000000     2.800000      996.950000   \n",
       "75%     900.000000    70.000000   100.000000     4.000000     1796.950000   \n",
       "max    1999.000000   800.000000   600.000000     5.600000    16296.950000   \n",
       "\n",
       "       announce_date  \n",
       "count    1938.000000  \n",
       "mean     2015.328689  \n",
       "std         2.569792  \n",
       "min      2010.000000  \n",
       "25%      2013.000000  \n",
       "50%      2015.000000  \n",
       "75%      2017.000000  \n",
       "max      2020.000000  "
      ]
     },
     "execution_count": 5,
     "metadata": {},
     "output_type": "execute_result"
    }
   ],
   "source": [
    "sales.describe()"
   ]
  },
  {
   "cell_type": "code",
   "execution_count": 6,
   "metadata": {},
   "outputs": [
    {
     "data": {
      "text/plain": [
       "216"
      ]
     },
     "execution_count": 6,
     "metadata": {},
     "output_type": "execute_result"
    }
   ],
   "source": [
    "sales['lens_id'].nunique()"
   ]
  },
  {
   "cell_type": "code",
   "execution_count": 7,
   "metadata": {},
   "outputs": [
    {
     "data": {
      "text/plain": [
       "price             1.000000\n",
       "original_price    0.413569\n",
       "flen_max          0.391478\n",
       "announce_date     0.332574\n",
       "f_min             0.276798\n",
       "flen_min          0.271123\n",
       "Name: price, dtype: float64"
      ]
     },
     "execution_count": 7,
     "metadata": {},
     "output_type": "execute_result"
    }
   ],
   "source": [
    "corr_matrix = sales.corr()\n",
    "corr_matrix['price'].sort_values(ascending=False)"
   ]
  },
  {
   "cell_type": "markdown",
   "metadata": {},
   "source": [
    "### Prepare for training models"
   ]
  },
  {
   "cell_type": "code",
   "execution_count": 8,
   "metadata": {},
   "outputs": [
    {
     "name": "stdout",
     "output_type": "stream",
     "text": [
      "\u001b[34mMean resale price: 672.4332352941177\u001b[0m\n",
      "\u001b[34mStd resale price: 456.6582753752202\u001b[0m\n"
     ]
    }
   ],
   "source": [
    "predict_ratio = False\n",
    "\n",
    "if (predict_ratio):\n",
    "    target = 'ret_value'\n",
    "    sales['ret_value'] = sales['price']/sales['original_price']\n",
    "    cprint(f'Mean resale/orig price: {sales.ret_value.mean()}','blue')\n",
    "    cprint(f'Std resale/orig price: {sales.ret_value.std()}','blue')\n",
    "else:\n",
    "    target = 'price'\n",
    "    cprint(f'Mean resale price: {sales.price.mean()}','blue')\n",
    "    cprint(f'Std resale price: {sales.price.std()}','blue')"
   ]
  },
  {
   "cell_type": "code",
   "execution_count": 9,
   "metadata": {},
   "outputs": [
    {
     "name": "stdout",
     "output_type": "stream",
     "text": [
      "Columns: ['lens_id', 'price', 'flen_min', 'flen_max', 'f_min', 'brand', 'original_price', 'announce_date']\u001b[0m\n"
     ]
    }
   ],
   "source": [
    "train_set, test_set = train_test_split(sales, test_size=0.2, random_state=13)\n",
    "cprint(f'Columns: {list(train_set)}')"
   ]
  },
  {
   "cell_type": "code",
   "execution_count": 10,
   "metadata": {},
   "outputs": [],
   "source": [
    "x_train = train_set[['original_price', 'flen_max', 'flen_min', 'f_min','brand', 'announce_date']]\n",
    "y_train = train_set[target]"
   ]
  },
  {
   "cell_type": "code",
   "execution_count": 11,
   "metadata": {},
   "outputs": [
    {
     "data": {
      "text/plain": [
       "['original_price', 'flen_max', 'flen_min', 'f_min', 'brand', 'announce_date']"
      ]
     },
     "execution_count": 11,
     "metadata": {},
     "output_type": "execute_result"
    }
   ],
   "source": [
    "list(x_train)"
   ]
  },
  {
   "cell_type": "code",
   "execution_count": 12,
   "metadata": {},
   "outputs": [
    {
     "name": "stdout",
     "output_type": "stream",
     "text": [
      "Numerical attributes to use: ['original_price', 'flen_max', 'flen_min', 'f_min', 'announce_date']\n"
     ]
    }
   ],
   "source": [
    "num_attr = list(x_train)\n",
    "num_attr.remove('brand')\n",
    "print('Numerical attributes to use:', num_attr)\n",
    "cat_attr = ['brand']\n",
    "\n",
    "full_pipeline = ColumnTransformer([\n",
    "  ('num', StandardScaler(), num_attr), # some models don't care, but doesn't hurt\n",
    "  ('cat', OneHotEncoder(), cat_attr),\n",
    "  ])"
   ]
  },
  {
   "cell_type": "code",
   "execution_count": 13,
   "metadata": {},
   "outputs": [
    {
     "name": "stdout",
     "output_type": "stream",
     "text": [
      "Features shape: (1550, 15)\n"
     ]
    }
   ],
   "source": [
    "x_train_prepd = full_pipeline.fit_transform(x_train)\n",
    "print(f'Features shape: {x_train_prepd.shape}')"
   ]
  },
  {
   "cell_type": "markdown",
   "metadata": {},
   "source": [
    "### Explore model families with default params with cross-validation"
   ]
  },
  {
   "cell_type": "code",
   "execution_count": 14,
   "metadata": {},
   "outputs": [
    {
     "name": "stdout",
     "output_type": "stream",
     "text": [
      "\u001b[35mMean score: 352.59\u001b[0m\n",
      "Standard deviation: 25.12\n"
     ]
    }
   ],
   "source": [
    "score_me(LinearRegression(), x_train_prepd, y_train)"
   ]
  },
  {
   "cell_type": "code",
   "execution_count": 15,
   "metadata": {},
   "outputs": [
    {
     "name": "stdout",
     "output_type": "stream",
     "text": [
      "\u001b[35mMean score: 366.12\u001b[0m\n",
      "Standard deviation: 18.65\n"
     ]
    }
   ],
   "source": [
    "score_me(SVR(kernel='linear'), x_train_prepd, y_train)"
   ]
  },
  {
   "cell_type": "code",
   "execution_count": 16,
   "metadata": {},
   "outputs": [
    {
     "name": "stdout",
     "output_type": "stream",
     "text": [
      "\u001b[35mMean score: 431.78\u001b[0m\n",
      "Standard deviation: 33.91\n"
     ]
    }
   ],
   "source": [
    "score_me(SVR(kernel='rbf'), x_train_prepd, y_train)"
   ]
  },
  {
   "cell_type": "code",
   "execution_count": 17,
   "metadata": {},
   "outputs": [
    {
     "name": "stdout",
     "output_type": "stream",
     "text": [
      "\u001b[35mMean score: 189.29\u001b[0m\n",
      "Standard deviation: 28.67\n"
     ]
    }
   ],
   "source": [
    "score_me(DecisionTreeRegressor(random_state=15), x_train_prepd, y_train)"
   ]
  },
  {
   "cell_type": "code",
   "execution_count": 18,
   "metadata": {},
   "outputs": [
    {
     "name": "stdout",
     "output_type": "stream",
     "text": [
      "\u001b[35mMean score: 184.10\u001b[0m\n",
      "Standard deviation: 21.39\n"
     ]
    }
   ],
   "source": [
    "score_me(RandomForestRegressor(n_estimators=30, random_state=13), x_train_prepd, y_train)"
   ]
  },
  {
   "cell_type": "code",
   "execution_count": 19,
   "metadata": {},
   "outputs": [
    {
     "name": "stdout",
     "output_type": "stream",
     "text": [
      "\u001b[35mMean score: 188.76\u001b[0m\n",
      "Standard deviation: 28.06\n"
     ]
    }
   ],
   "source": [
    "score_me(GradientBoostingRegressor(max_depth=None, n_estimators=30, learning_rate=1.0), x_train_prepd, y_train)"
   ]
  },
  {
   "cell_type": "markdown",
   "metadata": {},
   "source": [
    "Clear improvement going from Linear Regression and SVMs to Decision Tree, but then more complex models do not bring significant improvement. Proceed to optimize Decision Tree parameters."
   ]
  },
  {
   "cell_type": "markdown",
   "metadata": {},
   "source": [
    "### Check feature importance makes sense"
   ]
  },
  {
   "cell_type": "code",
   "execution_count": 20,
   "metadata": {},
   "outputs": [
    {
     "data": {
      "text/plain": [
       "[(0.7445767701671647, 'original_price'),\n",
       " (0.09643397672819636, 'flen_min'),\n",
       " (0.08219647460996654, 'sony'),\n",
       " (0.01580904169847844, 'olympus'),\n",
       " (0.014927505090107042, 'f_min'),\n",
       " (0.014925514545953464, 'fujifilm'),\n",
       " (0.011480985889859251, 'announce_date'),\n",
       " (0.008822034356336028, 'flen_max'),\n",
       " (0.003548562628954301, 'sigma'),\n",
       " (0.0025404773724230466, 'panasonic'),\n",
       " (0.0019136761325703549, 'tamron'),\n",
       " (0.0018676754154731618, 'leica'),\n",
       " (0.0005260600934118402, 'canon'),\n",
       " (0.0004246535363267638, 'nikon'),\n",
       " (6.59173477859735e-06, 'samyang')]"
      ]
     },
     "execution_count": 20,
     "metadata": {},
     "output_type": "execute_result"
    }
   ],
   "source": [
    "tree_reg = DecisionTreeRegressor(random_state=15)\n",
    "tree_reg.fit(x_train_prepd, y_train)\n",
    "\n",
    "feats_importance = tree_reg.feature_importances_\n",
    "all_attr = list(num_attr)\n",
    "all_attr.extend(full_pipeline.named_transformers_['cat'].categories_[0])\n",
    "sorted(zip(feats_importance, all_attr), reverse=True)"
   ]
  },
  {
   "cell_type": "markdown",
   "metadata": {},
   "source": [
    "Looks like some brands are not highly correlated with the price, so try to create a category 'other' combining:\n",
    "    ['sigma','panasonic','tamron','leica','canon','nikon','samyang']"
   ]
  },
  {
   "cell_type": "code",
   "execution_count": 21,
   "metadata": {},
   "outputs": [],
   "source": [
    "sales = sales.replace(['sigma','panasonic','tamron','leica','canon','nikon','samyang'],'other')"
   ]
  },
  {
   "cell_type": "code",
   "execution_count": 22,
   "metadata": {},
   "outputs": [
    {
     "data": {
      "text/html": [
       "<div>\n",
       "<style scoped>\n",
       "    .dataframe tbody tr th:only-of-type {\n",
       "        vertical-align: middle;\n",
       "    }\n",
       "\n",
       "    .dataframe tbody tr th {\n",
       "        vertical-align: top;\n",
       "    }\n",
       "\n",
       "    .dataframe thead th {\n",
       "        text-align: right;\n",
       "    }\n",
       "</style>\n",
       "<table border=\"1\" class=\"dataframe\">\n",
       "  <thead>\n",
       "    <tr style=\"text-align: right;\">\n",
       "      <th></th>\n",
       "      <th>lens_id</th>\n",
       "      <th>price</th>\n",
       "      <th>flen_min</th>\n",
       "      <th>flen_max</th>\n",
       "      <th>f_min</th>\n",
       "      <th>brand</th>\n",
       "      <th>original_price</th>\n",
       "      <th>announce_date</th>\n",
       "    </tr>\n",
       "  </thead>\n",
       "  <tbody>\n",
       "    <tr>\n",
       "      <th>0</th>\n",
       "      <td>nikon_50_1p8_g_sp_ed</td>\n",
       "      <td>150.0</td>\n",
       "      <td>50.0</td>\n",
       "      <td>-1.0</td>\n",
       "      <td>1.8</td>\n",
       "      <td>other</td>\n",
       "      <td>276.950</td>\n",
       "      <td>2013</td>\n",
       "    </tr>\n",
       "    <tr>\n",
       "      <th>1</th>\n",
       "      <td>canon_ts-e_135_4p0_macro</td>\n",
       "      <td>565.0</td>\n",
       "      <td>135.0</td>\n",
       "      <td>-1.0</td>\n",
       "      <td>4.0</td>\n",
       "      <td>other</td>\n",
       "      <td>2199.000</td>\n",
       "      <td>2017</td>\n",
       "    </tr>\n",
       "    <tr>\n",
       "      <th>2</th>\n",
       "      <td>fujifilm_xf_35_2_r_wr</td>\n",
       "      <td>275.0</td>\n",
       "      <td>35.0</td>\n",
       "      <td>-1.0</td>\n",
       "      <td>2.0</td>\n",
       "      <td>fujifilm</td>\n",
       "      <td>409.475</td>\n",
       "      <td>2015</td>\n",
       "    </tr>\n",
       "    <tr>\n",
       "      <th>3</th>\n",
       "      <td>sony_fe_200-600_5p6-6p3_g_oss</td>\n",
       "      <td>1775.0</td>\n",
       "      <td>200.0</td>\n",
       "      <td>600.0</td>\n",
       "      <td>5.6</td>\n",
       "      <td>sony</td>\n",
       "      <td>1998.000</td>\n",
       "      <td>2019</td>\n",
       "    </tr>\n",
       "    <tr>\n",
       "      <th>4</th>\n",
       "      <td>fujifilm_xf_16-55_2p8_lm_wr</td>\n",
       "      <td>750.0</td>\n",
       "      <td>16.0</td>\n",
       "      <td>55.0</td>\n",
       "      <td>2.8</td>\n",
       "      <td>fujifilm</td>\n",
       "      <td>907.495</td>\n",
       "      <td>2015</td>\n",
       "    </tr>\n",
       "    <tr>\n",
       "      <th>5</th>\n",
       "      <td>sony_fe_85mm_1p4_gm</td>\n",
       "      <td>1245.0</td>\n",
       "      <td>85.0</td>\n",
       "      <td>-1.0</td>\n",
       "      <td>1.4</td>\n",
       "      <td>sony</td>\n",
       "      <td>1806.495</td>\n",
       "      <td>2016</td>\n",
       "    </tr>\n",
       "    <tr>\n",
       "      <th>6</th>\n",
       "      <td>sony_zeiss_fe_70_200_4_oss</td>\n",
       "      <td>950.0</td>\n",
       "      <td>70.0</td>\n",
       "      <td>200.0</td>\n",
       "      <td>4.0</td>\n",
       "      <td>sony</td>\n",
       "      <td>1323.000</td>\n",
       "      <td>2013</td>\n",
       "    </tr>\n",
       "    <tr>\n",
       "      <th>7</th>\n",
       "      <td>fujifilm_xf_16-55_2p8_lm_wr</td>\n",
       "      <td>700.0</td>\n",
       "      <td>16.0</td>\n",
       "      <td>55.0</td>\n",
       "      <td>2.8</td>\n",
       "      <td>fujifilm</td>\n",
       "      <td>907.495</td>\n",
       "      <td>2015</td>\n",
       "    </tr>\n",
       "    <tr>\n",
       "      <th>8</th>\n",
       "      <td>sigma_50_1p4_a</td>\n",
       "      <td>500.0</td>\n",
       "      <td>50.0</td>\n",
       "      <td>-1.0</td>\n",
       "      <td>1.4</td>\n",
       "      <td>other</td>\n",
       "      <td>805.440</td>\n",
       "      <td>2014</td>\n",
       "    </tr>\n",
       "    <tr>\n",
       "      <th>9</th>\n",
       "      <td>fujifilm_xf_56mm</td>\n",
       "      <td>650.0</td>\n",
       "      <td>56.0</td>\n",
       "      <td>-1.0</td>\n",
       "      <td>1.2</td>\n",
       "      <td>fujifilm</td>\n",
       "      <td>999.000</td>\n",
       "      <td>2014</td>\n",
       "    </tr>\n",
       "  </tbody>\n",
       "</table>\n",
       "</div>"
      ],
      "text/plain": [
       "                         lens_id   price  flen_min  flen_max  f_min     brand  \\\n",
       "0           nikon_50_1p8_g_sp_ed   150.0      50.0      -1.0    1.8     other   \n",
       "1       canon_ts-e_135_4p0_macro   565.0     135.0      -1.0    4.0     other   \n",
       "2          fujifilm_xf_35_2_r_wr   275.0      35.0      -1.0    2.0  fujifilm   \n",
       "3  sony_fe_200-600_5p6-6p3_g_oss  1775.0     200.0     600.0    5.6      sony   \n",
       "4    fujifilm_xf_16-55_2p8_lm_wr   750.0      16.0      55.0    2.8  fujifilm   \n",
       "5            sony_fe_85mm_1p4_gm  1245.0      85.0      -1.0    1.4      sony   \n",
       "6     sony_zeiss_fe_70_200_4_oss   950.0      70.0     200.0    4.0      sony   \n",
       "7    fujifilm_xf_16-55_2p8_lm_wr   700.0      16.0      55.0    2.8  fujifilm   \n",
       "8                 sigma_50_1p4_a   500.0      50.0      -1.0    1.4     other   \n",
       "9               fujifilm_xf_56mm   650.0      56.0      -1.0    1.2  fujifilm   \n",
       "\n",
       "   original_price  announce_date  \n",
       "0         276.950           2013  \n",
       "1        2199.000           2017  \n",
       "2         409.475           2015  \n",
       "3        1998.000           2019  \n",
       "4         907.495           2015  \n",
       "5        1806.495           2016  \n",
       "6        1323.000           2013  \n",
       "7         907.495           2015  \n",
       "8         805.440           2014  \n",
       "9         999.000           2014  "
      ]
     },
     "execution_count": 22,
     "metadata": {},
     "output_type": "execute_result"
    }
   ],
   "source": [
    "sales.head(10)"
   ]
  },
  {
   "cell_type": "code",
   "execution_count": 23,
   "metadata": {},
   "outputs": [
    {
     "data": {
      "text/plain": [
       "['original_price', 'flen_max', 'flen_min', 'f_min', 'announce_date']"
      ]
     },
     "execution_count": 23,
     "metadata": {},
     "output_type": "execute_result"
    }
   ],
   "source": [
    "num_attr"
   ]
  },
  {
   "cell_type": "code",
   "execution_count": 25,
   "metadata": {},
   "outputs": [
    {
     "name": "stdout",
     "output_type": "stream",
     "text": [
      "Features shape: (1550, 9)\n"
     ]
    }
   ],
   "source": [
    "train_set, test_set = train_test_split(sales, test_size=0.2, random_state=13)\n",
    "x_train = train_set[['original_price', 'flen_max', 'flen_min', 'f_min','brand', 'announce_date']]\n",
    "y_train = train_set[target]\n",
    "\n",
    "x_train_prepd = full_pipeline.fit_transform(x_train)\n",
    "print(f'Features shape: {x_train_prepd.shape}')"
   ]
  },
  {
   "cell_type": "code",
   "execution_count": 27,
   "metadata": {},
   "outputs": [
    {
     "name": "stdout",
     "output_type": "stream",
     "text": [
      "\u001b[35mMean score: 189.79\u001b[0m\n",
      "Standard deviation: 24.95\n"
     ]
    }
   ],
   "source": [
    "score_me(DecisionTreeRegressor(random_state=15), x_train_prepd, y_train)"
   ]
  },
  {
   "cell_type": "markdown",
   "metadata": {},
   "source": [
    "As expected, no explanatory power is lost while number of features is simplified."
   ]
  },
  {
   "cell_type": "markdown",
   "metadata": {},
   "source": [
    "### Optimize hyperparameters for Decision Tree model"
   ]
  },
  {
   "cell_type": "code",
   "execution_count": 28,
   "metadata": {},
   "outputs": [
    {
     "data": {
      "text/plain": [
       "RandomizedSearchCV(cv=5, error_score=nan,\n",
       "                   estimator=DecisionTreeRegressor(ccp_alpha=0.0,\n",
       "                                                   criterion='mse',\n",
       "                                                   max_depth=None,\n",
       "                                                   max_features=None,\n",
       "                                                   max_leaf_nodes=None,\n",
       "                                                   min_impurity_decrease=0.0,\n",
       "                                                   min_impurity_split=None,\n",
       "                                                   min_samples_leaf=1,\n",
       "                                                   min_samples_split=2,\n",
       "                                                   min_weight_fraction_leaf=0.0,\n",
       "                                                   presort='deprecated',\n",
       "                                                   random_state=15,\n",
       "                                                   splitter='best'),\n",
       "                   iid='deprecated', n_iter...\n",
       "                   param_distributions={'max_depth': <scipy.stats._distn_infrastructure.rv_frozen object at 0x7f8da08cd358>,\n",
       "                                        'min_samples_leaf': <scipy.stats._distn_infrastructure.rv_frozen object at 0x7f8da08cd710>,\n",
       "                                        'min_samples_split': <scipy.stats._distn_infrastructure.rv_frozen object at 0x7f8da08cd1d0>},\n",
       "                   pre_dispatch='2*n_jobs', random_state=15, refit=True,\n",
       "                   return_train_score=False, scoring='neg_mean_squared_error',\n",
       "                   verbose=0)"
      ]
     },
     "execution_count": 28,
     "metadata": {},
     "output_type": "execute_result"
    }
   ],
   "source": [
    "distributions = {\n",
    "        'max_depth': randint(low=1, high=50),\n",
    "        'min_samples_split': randint(low=2, high=20),\n",
    "        'min_samples_leaf': randint(low=1, high=20)\n",
    "    }\n",
    "\n",
    "rnd_search = RandomizedSearchCV(DecisionTreeRegressor(random_state=15), \n",
    "                                param_distributions=distributions,\n",
    "                                n_iter=50, cv=5, scoring='neg_mean_squared_error', random_state=15)\n",
    "rnd_search.fit(x_train_prepd, y_train)"
   ]
  },
  {
   "cell_type": "code",
   "execution_count": 29,
   "metadata": {},
   "outputs": [
    {
     "data": {
      "text/plain": [
       "(array([ 3.,  9.,  7.,  1.,  3.,  8., 13.,  1.,  1.,  1.,  0.,  0.,  0.,\n",
       "         0.,  0.,  0.,  0.,  0.,  0.,  0.,  0.,  0.,  0.,  0.,  0.,  0.,\n",
       "         0.,  0.,  0.,  0.,  0.,  0.,  0.,  0.,  1.,  0.,  0.,  0.,  0.,\n",
       "         0.,  0.,  0.,  0.,  0.,  0.,  0.,  0.,  0.,  0.,  2.]),\n",
       " array([188.87129596, 192.00550874, 195.13972152, 198.2739343 ,\n",
       "        201.40814708, 204.54235986, 207.67657265, 210.81078543,\n",
       "        213.94499821, 217.07921099, 220.21342377, 223.34763655,\n",
       "        226.48184933, 229.61606211, 232.7502749 , 235.88448768,\n",
       "        239.01870046, 242.15291324, 245.28712602, 248.4213388 ,\n",
       "        251.55555158, 254.68976436, 257.82397715, 260.95818993,\n",
       "        264.09240271, 267.22661549, 270.36082827, 273.49504105,\n",
       "        276.62925383, 279.76346661, 282.8976794 , 286.03189218,\n",
       "        289.16610496, 292.30031774, 295.43453052, 298.5687433 ,\n",
       "        301.70295608, 304.83716886, 307.97138165, 311.10559443,\n",
       "        314.23980721, 317.37401999, 320.50823277, 323.64244555,\n",
       "        326.77665833, 329.91087111, 333.0450839 , 336.17929668,\n",
       "        339.31350946, 342.44772224, 345.58193502]),\n",
       " <a list of 50 Patch objects>)"
      ]
     },
     "execution_count": 29,
     "metadata": {},
     "output_type": "execute_result"
    },
    {
     "data": {
      "image/png": "[encoded data removed]",
      "text/plain": [
       "<Figure size 432x288 with 1 Axes>"
      ]
     },
     "metadata": {
      "needs_background": "light"
     },
     "output_type": "display_data"
    }
   ],
   "source": [
    "cvres = rnd_search.cv_results_\n",
    "plt.hist(np.sqrt(-cvres[\"mean_test_score\"]), bins=50)"
   ]
  },
  {
   "cell_type": "markdown",
   "metadata": {},
   "source": [
    "Best performance consistent with default hyperparams, so leave at default."
   ]
  },
  {
   "cell_type": "markdown",
   "metadata": {},
   "source": [
    "### Check test RMSE"
   ]
  },
  {
   "cell_type": "code",
   "execution_count": 30,
   "metadata": {},
   "outputs": [
    {
     "name": "stdout",
     "output_type": "stream",
     "text": [
      "\u001b[35mTest RMSE = 188.37\u001b[0m\n"
     ]
    }
   ],
   "source": [
    "tree_reg = DecisionTreeRegressor(random_state=15)\n",
    "tree_reg.fit(x_train_prepd, y_train)\n",
    "\n",
    "x_test = test_set[['original_price', 'flen_max', 'flen_min', 'f_min','brand', 'announce_date']]\n",
    "y_test = test_set[target]\n",
    "x_test_prepd = full_pipeline.transform(x_test)\n",
    "y_pred = tree_reg.predict(x_test_prepd)\n",
    "test_rmse = np.sqrt(mean_squared_error(y_test, y_pred))\n",
    "cprint(f\"Test RMSE = {test_rmse:.2f}\",'magenta')"
   ]
  },
  {
   "cell_type": "markdown",
   "metadata": {},
   "source": [
    "Consistent with results on validation set, no signs of overfitting. "
   ]
  },
  {
   "cell_type": "markdown",
   "metadata": {},
   "source": [
    "### Retrain final model on all available data and save"
   ]
  },
  {
   "cell_type": "code",
   "execution_count": 31,
   "metadata": {},
   "outputs": [
    {
     "name": "stdout",
     "output_type": "stream",
     "text": [
      "Features shape: (1938, 9)\n"
     ]
    }
   ],
   "source": [
    "x_all = sales[['original_price', 'flen_max', 'flen_min', 'f_min','brand', 'announce_date']]\n",
    "y_all = sales[target]\n",
    "x_all_prepd = full_pipeline.fit_transform(x_all)\n",
    "print(f'Features shape: {x_all_prepd.shape}')"
   ]
  },
  {
   "cell_type": "code",
   "execution_count": 32,
   "metadata": {},
   "outputs": [
    {
     "data": {
      "text/plain": [
       "DecisionTreeRegressor(ccp_alpha=0.0, criterion='mse', max_depth=None,\n",
       "                      max_features=None, max_leaf_nodes=None,\n",
       "                      min_impurity_decrease=0.0, min_impurity_split=None,\n",
       "                      min_samples_leaf=1, min_samples_split=2,\n",
       "                      min_weight_fraction_leaf=0.0, presort='deprecated',\n",
       "                      random_state=15, splitter='best')"
      ]
     },
     "execution_count": 32,
     "metadata": {},
     "output_type": "execute_result"
    }
   ],
   "source": [
    "tree_reg = DecisionTreeRegressor(random_state=15)\n",
    "tree_reg.fit(x_all_prepd, y_all)"
   ]
  },
  {
   "cell_type": "code",
   "execution_count": 33,
   "metadata": {},
   "outputs": [
    {
     "data": {
      "text/plain": [
       "['resale_price_model.pkl']"
      ]
     },
     "execution_count": 33,
     "metadata": {},
     "output_type": "execute_result"
    }
   ],
   "source": [
    "joblib.dump(tree_reg, \"resale_price_model.pkl\")"
   ]
  },
  {
   "cell_type": "code",
   "execution_count": null,
   "metadata": {},
   "outputs": [],
   "source": []
  }
 ],
 "metadata": {
  "kernelspec": {
   "display_name": "Python 3",
   "language": "python",
   "name": "python3"
  },
  "language_info": {
   "codemirror_mode": {
    "name": "ipython",
    "version": 3
   },
   "file_extension": ".py",
   "mimetype": "text/x-python",
   "name": "python",
   "nbconvert_exporter": "python",
   "pygments_lexer": "ipython3",
   "version": "3.7.0"
  }
 },
 "nbformat": 4,
 "nbformat_minor": 2
}
