{
 "cells": [
  {
   "cell_type": "code",
   "execution_count": 1,
   "metadata": {},
   "outputs": [
    {
     "data": {
      "text/html": [
       "<style>.container { width:100% !important; }</style>"
      ],
      "text/plain": [
       "<IPython.core.display.HTML object>"
      ]
     },
     "metadata": {},
     "output_type": "display_data"
    }
   ],
   "source": [
    "import pandas as pd\n",
    "from IPython.core.display import display, HTML\n",
    "display(HTML(\"<style>.container { width:100% !important; }</style>\"))\n",
    "pd.set_option('display.max_rows', 100)\n",
    "pd.set_option('display.max_colwidth', 400)"
   ]
  },
  {
   "cell_type": "code",
   "execution_count": 25,
   "metadata": {},
   "outputs": [],
   "source": [
    "df = pd.read_csv('../data/specs_clean.csv')"
   ]
  },
  {
   "cell_type": "code",
   "execution_count": 26,
   "metadata": {},
   "outputs": [
    {
     "data": {
      "text/html": [
       "<div>\n",
       "<style scoped>\n",
       "    .dataframe tbody tr th:only-of-type {\n",
       "        vertical-align: middle;\n",
       "    }\n",
       "\n",
       "    .dataframe tbody tr th {\n",
       "        vertical-align: top;\n",
       "    }\n",
       "\n",
       "    .dataframe thead th {\n",
       "        text-align: right;\n",
       "    }\n",
       "</style>\n",
       "<table border=\"1\" class=\"dataframe\">\n",
       "  <thead>\n",
       "    <tr style=\"text-align: right;\">\n",
       "      <th></th>\n",
       "      <th>lens_id</th>\n",
       "      <th>brand</th>\n",
       "      <th>original_price</th>\n",
       "      <th>announce_date</th>\n",
       "      <th>format</th>\n",
       "      <th>flen_min</th>\n",
       "      <th>flen_max</th>\n",
       "      <th>image_stabilization</th>\n",
       "      <th>f_min</th>\n",
       "      <th>elements</th>\n",
       "      <th>groups</th>\n",
       "      <th>minimum_focus</th>\n",
       "      <th>maximum_magnification</th>\n",
       "      <th>autofocus</th>\n",
       "      <th>weight</th>\n",
       "      <th>sealing</th>\n",
       "    </tr>\n",
       "  </thead>\n",
       "  <tbody>\n",
       "    <tr>\n",
       "      <th>2</th>\n",
       "      <td>sony_fe_50_1p8</td>\n",
       "      <td>sony</td>\n",
       "      <td>247.975</td>\n",
       "      <td>2016</td>\n",
       "      <td>2.0</td>\n",
       "      <td>50.0</td>\n",
       "      <td>-1.0</td>\n",
       "      <td>False</td>\n",
       "      <td>1.8</td>\n",
       "      <td>6</td>\n",
       "      <td>5</td>\n",
       "      <td>0.45</td>\n",
       "      <td>0.14</td>\n",
       "      <td>True</td>\n",
       "      <td>186</td>\n",
       "      <td>False</td>\n",
       "    </tr>\n",
       "    <tr>\n",
       "      <th>58</th>\n",
       "      <td>sony_fe_50_2p8_macro</td>\n",
       "      <td>sony</td>\n",
       "      <td>548.000</td>\n",
       "      <td>2016</td>\n",
       "      <td>2.0</td>\n",
       "      <td>50.0</td>\n",
       "      <td>-1.0</td>\n",
       "      <td>False</td>\n",
       "      <td>2.8</td>\n",
       "      <td>8</td>\n",
       "      <td>8</td>\n",
       "      <td>0.16</td>\n",
       "      <td>1.00</td>\n",
       "      <td>True</td>\n",
       "      <td>236</td>\n",
       "      <td>True</td>\n",
       "    </tr>\n",
       "    <tr>\n",
       "      <th>247</th>\n",
       "      <td>sony_fe_50_1p4_za</td>\n",
       "      <td>sony</td>\n",
       "      <td>1502.440</td>\n",
       "      <td>2016</td>\n",
       "      <td>2.0</td>\n",
       "      <td>50.0</td>\n",
       "      <td>-1.0</td>\n",
       "      <td>False</td>\n",
       "      <td>1.4</td>\n",
       "      <td>12</td>\n",
       "      <td>9</td>\n",
       "      <td>0.45</td>\n",
       "      <td>0.15</td>\n",
       "      <td>True</td>\n",
       "      <td>778</td>\n",
       "      <td>True</td>\n",
       "    </tr>\n",
       "  </tbody>\n",
       "</table>\n",
       "</div>"
      ],
      "text/plain": [
       "                  lens_id brand  original_price  announce_date  format  \\\n",
       "2          sony_fe_50_1p8  sony         247.975           2016     2.0   \n",
       "58   sony_fe_50_2p8_macro  sony         548.000           2016     2.0   \n",
       "247     sony_fe_50_1p4_za  sony        1502.440           2016     2.0   \n",
       "\n",
       "     flen_min  flen_max  image_stabilization  f_min  elements  groups  \\\n",
       "2        50.0      -1.0                False    1.8         6       5   \n",
       "58       50.0      -1.0                False    2.8         8       8   \n",
       "247      50.0      -1.0                False    1.4        12       9   \n",
       "\n",
       "     minimum_focus  maximum_magnification  autofocus  weight  sealing  \n",
       "2             0.45                   0.14       True     186    False  \n",
       "58            0.16                   1.00       True     236     True  \n",
       "247           0.45                   0.15       True     778     True  "
      ]
     },
     "execution_count": 26,
     "metadata": {},
     "output_type": "execute_result"
    }
   ],
   "source": [
    "df[(df['brand']=='sony')&(df['flen_min']==50)&(df['flen_max'])].head(100)"
   ]
  },
  {
   "cell_type": "code",
   "execution_count": 18,
   "metadata": {},
   "outputs": [
    {
     "data": {
      "text/plain": [
       "0"
      ]
     },
     "execution_count": 18,
     "metadata": {},
     "output_type": "execute_result"
    }
   ],
   "source": [
    "len(df[df['brand']=='zeiss'])"
   ]
  },
  {
   "cell_type": "code",
   "execution_count": null,
   "metadata": {},
   "outputs": [],
   "source": []
  }
 ],
 "metadata": {
  "kernelspec": {
   "display_name": "Python 3",
   "language": "python",
   "name": "python3"
  },
  "language_info": {
   "codemirror_mode": {
    "name": "ipython",
    "version": 3
   },
   "file_extension": ".py",
   "mimetype": "text/x-python",
   "name": "python",
   "nbconvert_exporter": "python",
   "pygments_lexer": "ipython3",
   "version": "3.7.0"
  }
 },
 "nbformat": 4,
 "nbformat_minor": 2
}
