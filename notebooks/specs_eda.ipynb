{
 "cells": [
  {
   "cell_type": "code",
   "execution_count": 1,
   "metadata": {},
   "outputs": [
    {
     "data": {
      "text/html": [
       "<style>.container { width:100% !important; }</style>"
      ],
      "text/plain": [
       "<IPython.core.display.HTML object>"
      ]
     },
     "metadata": {},
     "output_type": "display_data"
    }
   ],
   "source": [
    "from IPython.core.display import display, HTML\n",
    "display(HTML(\"<style>.container { width:100% !important; }</style>\"))"
   ]
  },
  {
   "cell_type": "code",
   "execution_count": 14,
   "metadata": {},
   "outputs": [],
   "source": [
    "import pandas as pd\n",
    "import math"
   ]
  },
  {
   "cell_type": "code",
   "execution_count": 4,
   "metadata": {},
   "outputs": [],
   "source": [
    "df = pd.read_csv('../data/lens_specs.csv')"
   ]
  },
  {
   "cell_type": "code",
   "execution_count": 5,
   "metadata": {},
   "outputs": [
    {
     "data": {
      "text/html": [
       "<div>\n",
       "<style scoped>\n",
       "    .dataframe tbody tr th:only-of-type {\n",
       "        vertical-align: middle;\n",
       "    }\n",
       "\n",
       "    .dataframe tbody tr th {\n",
       "        vertical-align: top;\n",
       "    }\n",
       "\n",
       "    .dataframe thead th {\n",
       "        text-align: right;\n",
       "    }\n",
       "</style>\n",
       "<table border=\"1\" class=\"dataframe\">\n",
       "  <thead>\n",
       "    <tr style=\"text-align: right;\">\n",
       "      <th></th>\n",
       "      <th>Unnamed: 0</th>\n",
       "      <th>original_price</th>\n",
       "      <th>announce_date</th>\n",
       "      <th>flen_min</th>\n",
       "      <th>flen_max</th>\n",
       "      <th>f_min</th>\n",
       "      <th>elements</th>\n",
       "      <th>groups</th>\n",
       "      <th>minimum_focus</th>\n",
       "      <th>maximum_magnification</th>\n",
       "      <th>weight</th>\n",
       "    </tr>\n",
       "  </thead>\n",
       "  <tbody>\n",
       "    <tr>\n",
       "      <th>count</th>\n",
       "      <td>428.000000</td>\n",
       "      <td>428.000000</td>\n",
       "      <td>428.000000</td>\n",
       "      <td>420.000000</td>\n",
       "      <td>420.000000</td>\n",
       "      <td>422.000000</td>\n",
       "      <td>428.000000</td>\n",
       "      <td>428.000000</td>\n",
       "      <td>428.000000</td>\n",
       "      <td>428.00000</td>\n",
       "      <td>428.000000</td>\n",
       "    </tr>\n",
       "    <tr>\n",
       "      <th>mean</th>\n",
       "      <td>213.500000</td>\n",
       "      <td>1417.595584</td>\n",
       "      <td>2014.271028</td>\n",
       "      <td>58.604762</td>\n",
       "      <td>71.102381</td>\n",
       "      <td>2.998578</td>\n",
       "      <td>12.838785</td>\n",
       "      <td>9.689252</td>\n",
       "      <td>0.562103</td>\n",
       "      <td>0.08232</td>\n",
       "      <td>634.109813</td>\n",
       "    </tr>\n",
       "    <tr>\n",
       "      <th>std</th>\n",
       "      <td>123.697211</td>\n",
       "      <td>2145.436755</td>\n",
       "      <td>2.737783</td>\n",
       "      <td>93.561041</td>\n",
       "      <td>117.418154</td>\n",
       "      <td>1.230162</td>\n",
       "      <td>5.174672</td>\n",
       "      <td>3.889477</td>\n",
       "      <td>0.727905</td>\n",
       "      <td>0.62111</td>\n",
       "      <td>700.469575</td>\n",
       "    </tr>\n",
       "    <tr>\n",
       "      <th>min</th>\n",
       "      <td>0.000000</td>\n",
       "      <td>48.040000</td>\n",
       "      <td>2010.000000</td>\n",
       "      <td>3.200000</td>\n",
       "      <td>-1.000000</td>\n",
       "      <td>1.000000</td>\n",
       "      <td>-1.000000</td>\n",
       "      <td>-1.000000</td>\n",
       "      <td>-1.000000</td>\n",
       "      <td>-1.00000</td>\n",
       "      <td>-1.000000</td>\n",
       "    </tr>\n",
       "    <tr>\n",
       "      <th>25%</th>\n",
       "      <td>106.750000</td>\n",
       "      <td>405.067500</td>\n",
       "      <td>2012.000000</td>\n",
       "      <td>18.000000</td>\n",
       "      <td>-1.000000</td>\n",
       "      <td>2.000000</td>\n",
       "      <td>9.000000</td>\n",
       "      <td>7.000000</td>\n",
       "      <td>0.250000</td>\n",
       "      <td>0.11000</td>\n",
       "      <td>209.500000</td>\n",
       "    </tr>\n",
       "    <tr>\n",
       "      <th>50%</th>\n",
       "      <td>213.500000</td>\n",
       "      <td>747.475000</td>\n",
       "      <td>2014.000000</td>\n",
       "      <td>30.000000</td>\n",
       "      <td>-1.000000</td>\n",
       "      <td>2.800000</td>\n",
       "      <td>13.000000</td>\n",
       "      <td>10.000000</td>\n",
       "      <td>0.350000</td>\n",
       "      <td>0.18000</td>\n",
       "      <td>457.500000</td>\n",
       "    </tr>\n",
       "    <tr>\n",
       "      <th>75%</th>\n",
       "      <td>320.250000</td>\n",
       "      <td>1499.000000</td>\n",
       "      <td>2016.000000</td>\n",
       "      <td>56.000000</td>\n",
       "      <td>100.000000</td>\n",
       "      <td>3.650000</td>\n",
       "      <td>16.000000</td>\n",
       "      <td>12.000000</td>\n",
       "      <td>0.700000</td>\n",
       "      <td>0.25000</td>\n",
       "      <td>780.000000</td>\n",
       "    </tr>\n",
       "    <tr>\n",
       "      <th>max</th>\n",
       "      <td>427.000000</td>\n",
       "      <td>16296.950000</td>\n",
       "      <td>2020.000000</td>\n",
       "      <td>800.000000</td>\n",
       "      <td>600.000000</td>\n",
       "      <td>12.000000</td>\n",
       "      <td>32.000000</td>\n",
       "      <td>24.000000</td>\n",
       "      <td>5.900000</td>\n",
       "      <td>5.00000</td>\n",
       "      <td>4590.000000</td>\n",
       "    </tr>\n",
       "  </tbody>\n",
       "</table>\n",
       "</div>"
      ],
      "text/plain": [
       "       Unnamed: 0  original_price  announce_date    flen_min    flen_max  \\\n",
       "count  428.000000      428.000000     428.000000  420.000000  420.000000   \n",
       "mean   213.500000     1417.595584    2014.271028   58.604762   71.102381   \n",
       "std    123.697211     2145.436755       2.737783   93.561041  117.418154   \n",
       "min      0.000000       48.040000    2010.000000    3.200000   -1.000000   \n",
       "25%    106.750000      405.067500    2012.000000   18.000000   -1.000000   \n",
       "50%    213.500000      747.475000    2014.000000   30.000000   -1.000000   \n",
       "75%    320.250000     1499.000000    2016.000000   56.000000  100.000000   \n",
       "max    427.000000    16296.950000    2020.000000  800.000000  600.000000   \n",
       "\n",
       "            f_min    elements      groups  minimum_focus  \\\n",
       "count  422.000000  428.000000  428.000000     428.000000   \n",
       "mean     2.998578   12.838785    9.689252       0.562103   \n",
       "std      1.230162    5.174672    3.889477       0.727905   \n",
       "min      1.000000   -1.000000   -1.000000      -1.000000   \n",
       "25%      2.000000    9.000000    7.000000       0.250000   \n",
       "50%      2.800000   13.000000   10.000000       0.350000   \n",
       "75%      3.650000   16.000000   12.000000       0.700000   \n",
       "max     12.000000   32.000000   24.000000       5.900000   \n",
       "\n",
       "       maximum_magnification       weight  \n",
       "count              428.00000   428.000000  \n",
       "mean                 0.08232   634.109813  \n",
       "std                  0.62111   700.469575  \n",
       "min                 -1.00000    -1.000000  \n",
       "25%                  0.11000   209.500000  \n",
       "50%                  0.18000   457.500000  \n",
       "75%                  0.25000   780.000000  \n",
       "max                  5.00000  4590.000000  "
      ]
     },
     "execution_count": 5,
     "metadata": {},
     "output_type": "execute_result"
    }
   ],
   "source": [
    "df.describe()"
   ]
  },
  {
   "cell_type": "code",
   "execution_count": 22,
   "metadata": {
    "scrolled": false
   },
   "outputs": [
    {
     "name": "stdout",
     "output_type": "stream",
     "text": [
      "{'olympus_m_75-300_4p8-6p7', 'olympus_m_40-150_4-5p6_r', 'tamron_18-270_3p5-6p3_vc_pzd', 'panasonic_x_14-42_3p5-5p6_pz', 'tamron_70-300_4-5p6_di_usd', 'sigma_18-200_3p5-6p3_c', 'nikon_35_1p8g', 'fujifilm_xc_50-230_ii', 'leica_tl_35_1p4_asph', 'panasonic_14-42_3p5-5p6_ii', 'canon_70-200_2p8_is_iii_usm', 'tamron_70-300_4-5p6_di_vc_usd', 'fujifilm_xc_50-230', 'nikon_50_1p8_g', 'sony_e_35_1p8', 'panasonic_35-100_2p8', 'tamron_18-270_3p5-6p3_pzd', 'nikon_50_1p8_g_sp_ed', 'canon_rf_24-105_4p0-7p1_is_stm', 'sony_35_1p8', 'nikon_z_85_1p8_s', 'fujifilm_mk_18_55_t2p9', 'nikon_85_1p8g', 'leica_m_35_1p4', 'panasonic_35-100_2p8_ii', 'sigma_150-600_5p0-6p3_dg_os_hsm_c', 'canon_70-300_4-5p6l_is', 'canon_ef_24-105_4_usm_ii', 'canon_70-300_4p0-5p6_is_ii_usm', 'olympus_m_75-300_4p8-6p7_ii', 'olympus_m_40-150_4-5p6', 'sigma_30_1p4_dc_dn_c_mft', 'canon_24_2p8_is', 'canon_rf_24-70_2p8l_is_usm', 'tamron_18-200_3p5-6p3_di_iii_vc', 'fujifilm_mkx_18_55_t2p9', 'fujifilm_xf_56mm_apd', 'pentax_hd_da_40_2p8_ltd', 'fujifilm_xf_18-55', 'tamron_18-200_3p5-6p3_di_ii_vc', 'zeiss_milvus_21_2p8', 'canon_rf_70-200_2p8l_is_usm', 'canon_24_2p8_stm', 'sigma_30_1p4_dc_dn_c', 'nikon_z_35_1p8_s', 'sigma_18-200_3p5-6p3_os_hsm', 'sony_e_50_1p8', 'pentax_xs_40_2', 'sigma_a_30_1p4', 'canon_24-70_2p8_ii', 'zeiss_loxia_21_2p8', 'sony_fe_50_1p8', 'sigma_150-600_5p0-6p3_dg_os_hsm_s', 'fujifilm_xf_56mm', 'canon_rf_24-105_4l_is_usm', 'sony_fe_35_1p8'}\n"
     ]
    }
   ],
   "source": [
    "# check if focal length and aperture allows to select unique lenses\n",
    "has_duplicate = set()\n",
    "for ilens in range(len(df)):\n",
    "    iflen_min = df['flen_min'].iloc[ilens]\n",
    "    iflen_max = df['flen_max'].iloc[ilens]\n",
    "    if_min = df['f_min'].iloc[ilens]\n",
    "    ibrand = df['brand'].iloc[ilens]\n",
    "    df_other = df.drop([ilens])\n",
    "    df2 = df_other[(df_other['brand']==ibrand)&(df_other['flen_min']==iflen_min)&(df_other['flen_max']==iflen_max)&(df_other['f_min']==if_min)]\n",
    "    if len(df2)>0:\n",
    "        printed = False\n",
    "        for i in range(len(df2)):\n",
    "            reldiff = abs(df['original_price'].iloc[ilens]-df2['original_price'].iloc[i])/df['original_price'].iloc[ilens]\n",
    "            if  reldiff>.3:\n",
    "                if not printed: \n",
    "#                     print(df['lens_id'].iloc[ilens])\n",
    "                    has_duplicate.add(df['lens_id'].iloc[ilens])\n",
    "                    printed = True\n",
    "#                 print(df2['lens_id'].iloc[i])\n",
    "                has_duplicate.add(df2['lens_id'].iloc[i])\n",
    "                \n",
    "print(has_duplicate)\n",
    "            "
   ]
  },
  {
   "cell_type": "code",
   "execution_count": null,
   "metadata": {},
   "outputs": [],
   "source": []
  }
 ],
 "metadata": {
  "kernelspec": {
   "display_name": "Python 3",
   "language": "python",
   "name": "python3"
  },
  "language_info": {
   "codemirror_mode": {
    "name": "ipython",
    "version": 3
   },
   "file_extension": ".py",
   "mimetype": "text/x-python",
   "name": "python",
   "nbconvert_exporter": "python",
   "pygments_lexer": "ipython3",
   "version": "3.7.0"
  }
 },
 "nbformat": 4,
 "nbformat_minor": 2
}
