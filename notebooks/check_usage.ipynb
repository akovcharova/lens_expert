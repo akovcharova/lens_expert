{
 "cells": [
  {
   "cell_type": "code",
   "execution_count": 7,
   "metadata": {},
   "outputs": [
    {
     "data": {
      "text/html": [
       "<style>.container { width:100% !important; }</style>"
      ],
      "text/plain": [
       "<IPython.core.display.HTML object>"
      ]
     },
     "metadata": {},
     "output_type": "display_data"
    }
   ],
   "source": [
    "import pandas as pd\n",
    "from IPython.core.display import display, HTML\n",
    "display(HTML(\"<style>.container { width:100% !important; }</style>\"))\n",
    "pd.set_option('display.max_rows', 100)\n",
    "pd.set_option('display.max_colwidth', 400)"
   ]
  },
  {
   "cell_type": "code",
   "execution_count": 33,
   "metadata": {
    "scrolled": false
   },
   "outputs": [],
   "source": [
    "df = pd.read_csv('../data/usage_wildlife.csv')"
   ]
  },
  {
   "cell_type": "code",
   "execution_count": 34,
   "metadata": {},
   "outputs": [
    {
     "name": "stdout",
     "output_type": "stream",
     "text": [
      "<class 'pandas.core.frame.DataFrame'>\n",
      "RangeIndex: 1585 entries, 0 to 1584\n",
      "Data columns (total 4 columns):\n",
      " #   Column     Non-Null Count  Dtype \n",
      "---  ------     --------------  ----- \n",
      " 0   usage      1585 non-null   object\n",
      " 1   thread     1585 non-null   int64 \n",
      " 2   lens_id    1585 non-null   object\n",
      " 3   sentences  1585 non-null   object\n",
      "dtypes: int64(1), object(3)\n",
      "memory usage: 49.7+ KB\n"
     ]
    }
   ],
   "source": [
    "df.info()"
   ]
  },
  {
   "cell_type": "code",
   "execution_count": 36,
   "metadata": {},
   "outputs": [
    {
     "data": {
      "text/plain": [
       "nikon_300mm_f4_pf_ed_vr                        288\n",
       "canon_100-400_4p5-5p6_ii                       141\n",
       "sigma_150-600_5p0-6p3_dg_os_hsm_s              121\n",
       "nikon_500_4e_fl_ed_vr                          118\n",
       "tamron_150-600_5-6p3_vc                        101\n",
       "sony_fe_100-400_4p5-5p6_gm_oss                  83\n",
       "nikon_z_70-200_2p8_vr_s                         75\n",
       "nikon_400_2p8e_vr                               65\n",
       "nikon_af-p_70-300_4p5-6p3_ed_vr                 54\n",
       "nikon_600_4e_fl_ed_vr                           47\n",
       "canon_300_2p8l_is_ii_usm                        34\n",
       "nikon_800_5p6                                   33\n",
       "canon_500_4p0_is_ii                             32\n",
       "nikon_200_2g_ed_vrii_afs                        30\n",
       "canon_55-250_4-5p6_is_stm                       26\n",
       "sony_fe_400_2p8_gm_oss                          21\n",
       "sony_fe_70-300_4p5-5p6_g_oss                    19\n",
       "sigma_50-500_4p5-6p3_os                         19\n",
       "canon_70-300_4p0-5p6_is_ii_usm                  19\n",
       "tamron_70-300_4-5p6_di_vc_usd                   16\n",
       "sony_70-400_4-5p6_gssmii                        16\n",
       "nikon_afs_nikkor_180-400_f4e_tc1p4_fl_ed_vr     14\n",
       "olympus_m_300_4_is_pro                          13\n",
       "panasonic_100-300_4-5p6_ii                      12\n",
       "canon_ef_600_4l_is_iii_usm                      10\n",
       "sony_e_55-210_4p5-6p3                           10\n",
       "fujifilm_xf_200_2_r_lm_ois_wr                    9\n",
       "canon_400_4_do_is_ii                             9\n",
       "sigma_120-300_2p8                                9\n",
       "fujifilm_xf_50-140_2p8_ois_wr                    7\n",
       "tamron_70-200_2p8_vc                             7\n",
       "sony_fe_200-600_5p6-6p3_g_oss                    7\n",
       "panasonic_100-400_4p0-6p3_asph                   6\n",
       "sigma_150_2p8_os_hsm-macro                       6\n",
       "sigma_60-600_4p5-6p3_dg_os_hsm_s                 6\n",
       "tamron_18-270_3p5-6p3_vc_pzd                     5\n",
       "canon_rf_70-200_2p8l_is_usm                      5\n",
       "nikon_16-80_2p8-4e_ed_vr                         5\n",
       "olympus_m_75-300_4p8-6p7_ii                      5\n",
       "nikon_40_2p8                                     5\n",
       "canon_70-200_4_is_ii_usm                         4\n",
       "sigma_17-70_2p8-4                                3\n",
       "pentax_55-300_4p5_6p3_ed_plm_wr_re               3\n",
       "nikon_50_1p8_g_sp_ed                             3\n",
       "canon_24_2p8_stm                                 3\n",
       "sony_fe_100_2p8_stf_gm_oss                       2\n",
       "fujifilm_xf_55-200                               2\n",
       "sony_fe_90_2p8_macro_g_oss                       2\n",
       "canon_200-400_4                                  2\n",
       "tokina_14-20_f2_pro_dx                           2\n",
       "nikon_18-140_3p5-5p6g_vrdx                       2\n",
       "sony_e_30_3p5_macro                              2\n",
       "nikon_55-200_4-5p6_vr_ii                         2\n",
       "pentax_fa_150-450_4p5-5p6_ed_dc_aw               2\n",
       "nikon_z_85_1p8_s                                 2\n",
       "panasonic_leica_200_2p8                          2\n",
       "samsung_50-200_4-5p6_ois                         1\n",
       "sigma_50_1p4_a                                   1\n",
       "sigma_180_2p8_os_hsm-macro                       1\n",
       "panasonic_leica_50-200_2p8-4_asph                1\n",
       "canon_35_2_is                                    1\n",
       "nikkor_18-300_3p5-6p3g_ed_vr                     1\n",
       "sony_zeiss_fe_70_200_4_oss                       1\n",
       "olympus_m_25_1p8                                 1\n",
       "sony_e_16_2p8                                    1\n",
       "canon_ef_400_2p8l_is_iii_usm                     1\n",
       "tamron_24-70_2p8                                 1\n",
       "canon_10-18_4p5-5p6_is_stm                       1\n",
       "sigma_16_1p4_dc_dn_e-mount                       1\n",
       "fujifilm_xf_35mm                                 1\n",
       "sony_fe_85_1p8                                   1\n",
       "nikon_24-85_3p5-4p5                              1\n",
       "rokinon_50_1p4                                   1\n",
       "sigma_18-35_1p8                                  1\n",
       "sony_e_pz_18_105_4_g_oss                         1\n",
       "canon_50_1p8_stm                                 1\n",
       "nikon_120-300e_2p8_fl_ed_sr_vr                   1\n",
       "panasonic_12_1p4                                 1\n",
       "sony_fe_24-105_4p0_g_oss                         1\n",
       "tamron_18-400_3p5-6p3_di_ii_vc_hld               1\n",
       "nikon_z_24-70_4_s                                1\n",
       "canon_ts-e_135_4p0_macro                         1\n",
       "sigma_70-200_2p8_os                              1\n",
       "sony_zeiss_fe_55_1p8_za                          1\n",
       "tamron_28-300_3p5-6p3_di_vc_pzd                  1\n",
       "sigma_20_1p4                                     1\n",
       "sony_fe_70-200_2p8_gm_oss                        1\n",
       "nikkor_70-200_4g_ed_vr                           1\n",
       "nikon_35_1p4g_afs                                1\n",
       "canon_efs_18-135_3p5-5p6_is_usm                  1\n",
       "tamron_16-300-3p5-6p3                            1\n",
       "nikon_8-15_3p5-4p5e_ed                           1\n",
       "olympus_m_17_1p8                                 1\n",
       "panasonic_20_1p7_ii                              1\n",
       "sony_fe_12-24_4_g                                1\n",
       "Name: lens_id, dtype: int64"
      ]
     },
     "execution_count": 36,
     "metadata": {},
     "output_type": "execute_result"
    }
   ],
   "source": [
    "df['lens_id'].value_counts()"
   ]
  },
  {
   "cell_type": "code",
   "execution_count": 38,
   "metadata": {},
   "outputs": [
    {
     "data": {
      "text/plain": [
       "nikon_z_85_1p8_s              93\n",
       "nikon_50_1p8_g_sp_ed          51\n",
       "sigma_56_1p4_dc_dn_c          32\n",
       "nikon_z_70-200_2p8_vr_s       30\n",
       "sony_fe_135_1p8_gm            29\n",
       "                              ..\n",
       "nikon_55-200_4-5p6_vr_ii       1\n",
       "sony_zeiss_fe_35_2p8_za        1\n",
       "fujifilm_xf_18mm               1\n",
       "fujifilm_xf_16_2p8_r_wr        1\n",
       "sigma_180_2p8_os_hsm-macro     1\n",
       "Name: lens_id, Length: 125, dtype: int64"
      ]
     },
     "execution_count": 38,
     "metadata": {},
     "output_type": "execute_result"
    }
   ],
   "source": [
    "df = pd.read_csv('../data/usage_portraits.csv')\n",
    "df['lens_id'].value_counts()"
   ]
  },
  {
   "cell_type": "code",
   "execution_count": 39,
   "metadata": {},
   "outputs": [
    {
     "data": {
      "text/plain": [
       "sony_fe_24-105_4p0_g_oss          30\n",
       "nikon_z_24-70_4_s                 27\n",
       "canon_16-35_4_p0_is               21\n",
       "sony_fe_12-24_4_g                 16\n",
       "canon_24_2p8_stm                  15\n",
       "                                  ..\n",
       "canon_35_2_is                      1\n",
       "canon_rf_24-105_4p0-7p1_is_stm     1\n",
       "panasonic_14-42_3p5-5p6_ii         1\n",
       "sony_e_16-55_2p8_g                 1\n",
       "samyang_7p5_3p5                    1\n",
       "Name: lens_id, Length: 159, dtype: int64"
      ]
     },
     "execution_count": 39,
     "metadata": {},
     "output_type": "execute_result"
    }
   ],
   "source": [
    "df = pd.read_csv('../data/usage_landscape.csv')\n",
    "df['lens_id'].value_counts()"
   ]
  },
  {
   "cell_type": "code",
   "execution_count": null,
   "metadata": {},
   "outputs": [],
   "source": []
  }
 ],
 "metadata": {
  "kernelspec": {
   "display_name": "Python 3",
   "language": "python",
   "name": "python3"
  },
  "language_info": {
   "codemirror_mode": {
    "name": "ipython",
    "version": 3
   },
   "file_extension": ".py",
   "mimetype": "text/x-python",
   "name": "python",
   "nbconvert_exporter": "python",
   "pygments_lexer": "ipython3",
   "version": "3.7.0"
  }
 },
 "nbformat": 4,
 "nbformat_minor": 2
}
